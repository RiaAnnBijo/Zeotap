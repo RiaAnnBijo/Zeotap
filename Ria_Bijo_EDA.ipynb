{
 "cells": [
  {
   "cell_type": "code",
   "execution_count": 3,
   "id": "72f01965-a944-41da-9ea7-b1aadff7572b",
   "metadata": {},
   "outputs": [],
   "source": [
    "import pandas as pd\n",
    "import matplotlib.pyplot as plt\n",
    "from statsmodels.tsa.seasonal import seasonal_decompose"
   ]
  },
  {
   "cell_type": "code",
   "execution_count": 4,
   "id": "5e0398d0-c529-4c1c-9104-05f8d35faae3",
   "metadata": {},
   "outputs": [
    {
     "data": {
      "text/html": [
       "<div>\n",
       "<style scoped>\n",
       "    .dataframe tbody tr th:only-of-type {\n",
       "        vertical-align: middle;\n",
       "    }\n",
       "\n",
       "    .dataframe tbody tr th {\n",
       "        vertical-align: top;\n",
       "    }\n",
       "\n",
       "    .dataframe thead th {\n",
       "        text-align: right;\n",
       "    }\n",
       "</style>\n",
       "<table border=\"1\" class=\"dataframe\">\n",
       "  <thead>\n",
       "    <tr style=\"text-align: right;\">\n",
       "      <th></th>\n",
       "      <th>TransactionID</th>\n",
       "      <th>CustomerID</th>\n",
       "      <th>ProductID</th>\n",
       "      <th>TransactionDate</th>\n",
       "      <th>Quantity</th>\n",
       "      <th>TotalValue</th>\n",
       "      <th>Price</th>\n",
       "    </tr>\n",
       "  </thead>\n",
       "  <tbody>\n",
       "    <tr>\n",
       "      <th>0</th>\n",
       "      <td>T00001</td>\n",
       "      <td>C0199</td>\n",
       "      <td>P067</td>\n",
       "      <td>2024-08-25 12:38:23</td>\n",
       "      <td>1</td>\n",
       "      <td>300.68</td>\n",
       "      <td>300.68</td>\n",
       "    </tr>\n",
       "    <tr>\n",
       "      <th>1</th>\n",
       "      <td>T00112</td>\n",
       "      <td>C0146</td>\n",
       "      <td>P067</td>\n",
       "      <td>2024-05-27 22:23:54</td>\n",
       "      <td>1</td>\n",
       "      <td>300.68</td>\n",
       "      <td>300.68</td>\n",
       "    </tr>\n",
       "    <tr>\n",
       "      <th>2</th>\n",
       "      <td>T00166</td>\n",
       "      <td>C0127</td>\n",
       "      <td>P067</td>\n",
       "      <td>2024-04-25 07:38:55</td>\n",
       "      <td>1</td>\n",
       "      <td>300.68</td>\n",
       "      <td>300.68</td>\n",
       "    </tr>\n",
       "    <tr>\n",
       "      <th>3</th>\n",
       "      <td>T00272</td>\n",
       "      <td>C0087</td>\n",
       "      <td>P067</td>\n",
       "      <td>2024-03-26 22:55:37</td>\n",
       "      <td>2</td>\n",
       "      <td>601.36</td>\n",
       "      <td>300.68</td>\n",
       "    </tr>\n",
       "    <tr>\n",
       "      <th>4</th>\n",
       "      <td>T00363</td>\n",
       "      <td>C0070</td>\n",
       "      <td>P067</td>\n",
       "      <td>2024-03-21 15:10:10</td>\n",
       "      <td>3</td>\n",
       "      <td>902.04</td>\n",
       "      <td>300.68</td>\n",
       "    </tr>\n",
       "    <tr>\n",
       "      <th>...</th>\n",
       "      <td>...</td>\n",
       "      <td>...</td>\n",
       "      <td>...</td>\n",
       "      <td>...</td>\n",
       "      <td>...</td>\n",
       "      <td>...</td>\n",
       "      <td>...</td>\n",
       "    </tr>\n",
       "    <tr>\n",
       "      <th>995</th>\n",
       "      <td>T00496</td>\n",
       "      <td>C0118</td>\n",
       "      <td>P037</td>\n",
       "      <td>2024-10-24 08:30:27</td>\n",
       "      <td>1</td>\n",
       "      <td>459.86</td>\n",
       "      <td>459.86</td>\n",
       "    </tr>\n",
       "    <tr>\n",
       "      <th>996</th>\n",
       "      <td>T00759</td>\n",
       "      <td>C0059</td>\n",
       "      <td>P037</td>\n",
       "      <td>2024-06-04 02:15:24</td>\n",
       "      <td>3</td>\n",
       "      <td>1379.58</td>\n",
       "      <td>459.86</td>\n",
       "    </tr>\n",
       "    <tr>\n",
       "      <th>997</th>\n",
       "      <td>T00922</td>\n",
       "      <td>C0018</td>\n",
       "      <td>P037</td>\n",
       "      <td>2024-04-05 13:05:32</td>\n",
       "      <td>4</td>\n",
       "      <td>1839.44</td>\n",
       "      <td>459.86</td>\n",
       "    </tr>\n",
       "    <tr>\n",
       "      <th>998</th>\n",
       "      <td>T00959</td>\n",
       "      <td>C0115</td>\n",
       "      <td>P037</td>\n",
       "      <td>2024-09-29 10:16:02</td>\n",
       "      <td>2</td>\n",
       "      <td>919.72</td>\n",
       "      <td>459.86</td>\n",
       "    </tr>\n",
       "    <tr>\n",
       "      <th>999</th>\n",
       "      <td>T00992</td>\n",
       "      <td>C0024</td>\n",
       "      <td>P037</td>\n",
       "      <td>2024-04-21 10:52:24</td>\n",
       "      <td>1</td>\n",
       "      <td>459.86</td>\n",
       "      <td>459.86</td>\n",
       "    </tr>\n",
       "  </tbody>\n",
       "</table>\n",
       "<p>1000 rows × 7 columns</p>\n",
       "</div>"
      ],
      "text/plain": [
       "    TransactionID CustomerID ProductID      TransactionDate  Quantity  \\\n",
       "0          T00001      C0199      P067  2024-08-25 12:38:23         1   \n",
       "1          T00112      C0146      P067  2024-05-27 22:23:54         1   \n",
       "2          T00166      C0127      P067  2024-04-25 07:38:55         1   \n",
       "3          T00272      C0087      P067  2024-03-26 22:55:37         2   \n",
       "4          T00363      C0070      P067  2024-03-21 15:10:10         3   \n",
       "..            ...        ...       ...                  ...       ...   \n",
       "995        T00496      C0118      P037  2024-10-24 08:30:27         1   \n",
       "996        T00759      C0059      P037  2024-06-04 02:15:24         3   \n",
       "997        T00922      C0018      P037  2024-04-05 13:05:32         4   \n",
       "998        T00959      C0115      P037  2024-09-29 10:16:02         2   \n",
       "999        T00992      C0024      P037  2024-04-21 10:52:24         1   \n",
       "\n",
       "     TotalValue   Price  \n",
       "0        300.68  300.68  \n",
       "1        300.68  300.68  \n",
       "2        300.68  300.68  \n",
       "3        601.36  300.68  \n",
       "4        902.04  300.68  \n",
       "..          ...     ...  \n",
       "995      459.86  459.86  \n",
       "996     1379.58  459.86  \n",
       "997     1839.44  459.86  \n",
       "998      919.72  459.86  \n",
       "999      459.86  459.86  \n",
       "\n",
       "[1000 rows x 7 columns]"
      ]
     },
     "execution_count": 4,
     "metadata": {},
     "output_type": "execute_result"
    }
   ],
   "source": [
    "df = pd.read_csv('Transactions.csv')\n",
    "df"
   ]
  },
  {
   "cell_type": "code",
   "execution_count": 5,
   "id": "e6f9e71b-1028-4c99-9541-fd7a641234d4",
   "metadata": {},
   "outputs": [
    {
     "name": "stdout",
     "output_type": "stream",
     "text": [
      "<class 'pandas.core.frame.DataFrame'>\n",
      "RangeIndex: 1000 entries, 0 to 999\n",
      "Data columns (total 7 columns):\n",
      " #   Column           Non-Null Count  Dtype  \n",
      "---  ------           --------------  -----  \n",
      " 0   TransactionID    1000 non-null   object \n",
      " 1   CustomerID       1000 non-null   object \n",
      " 2   ProductID        1000 non-null   object \n",
      " 3   TransactionDate  1000 non-null   object \n",
      " 4   Quantity         1000 non-null   int64  \n",
      " 5   TotalValue       1000 non-null   float64\n",
      " 6   Price            1000 non-null   float64\n",
      "dtypes: float64(2), int64(1), object(4)\n",
      "memory usage: 54.8+ KB\n"
     ]
    }
   ],
   "source": [
    "df.info()"
   ]
  },
  {
   "cell_type": "code",
   "execution_count": 6,
   "id": "16abdffd-26e0-4641-8c8e-de3f602884f8",
   "metadata": {},
   "outputs": [
    {
     "name": "stdout",
     "output_type": "stream",
     "text": [
      "          Quantity   TotalValue       Price\n",
      "count  1000.000000  1000.000000  1000.00000\n",
      "mean      2.537000   689.995560   272.55407\n",
      "std       1.117981   493.144478   140.73639\n",
      "min       1.000000    16.080000    16.08000\n",
      "25%       2.000000   295.295000   147.95000\n",
      "50%       3.000000   588.880000   299.93000\n",
      "75%       4.000000  1011.660000   404.40000\n",
      "max       4.000000  1991.040000   497.76000\n"
     ]
    }
   ],
   "source": [
    "print(df.describe())"
   ]
  },
  {
   "cell_type": "code",
   "execution_count": 7,
   "id": "b6460adb-be1f-4825-8f2f-be564275df41",
   "metadata": {},
   "outputs": [
    {
     "data": {
      "text/plain": [
       "0"
      ]
     },
     "execution_count": 7,
     "metadata": {},
     "output_type": "execute_result"
    }
   ],
   "source": [
    "df.duplicated().sum()"
   ]
  },
  {
   "cell_type": "code",
   "execution_count": 8,
   "id": "39582a6d-ec97-4aa3-84cb-17e338cb0226",
   "metadata": {},
   "outputs": [
    {
     "data": {
      "text/html": [
       "<div>\n",
       "<style scoped>\n",
       "    .dataframe tbody tr th:only-of-type {\n",
       "        vertical-align: middle;\n",
       "    }\n",
       "\n",
       "    .dataframe tbody tr th {\n",
       "        vertical-align: top;\n",
       "    }\n",
       "\n",
       "    .dataframe thead th {\n",
       "        text-align: right;\n",
       "    }\n",
       "</style>\n",
       "<table border=\"1\" class=\"dataframe\">\n",
       "  <thead>\n",
       "    <tr style=\"text-align: right;\">\n",
       "      <th></th>\n",
       "      <th>TransactionID</th>\n",
       "      <th>CustomerID</th>\n",
       "      <th>ProductID</th>\n",
       "      <th>TransactionDate</th>\n",
       "      <th>Quantity</th>\n",
       "      <th>TotalValue</th>\n",
       "      <th>Price</th>\n",
       "      <th>Date</th>\n",
       "      <th>Time</th>\n",
       "    </tr>\n",
       "  </thead>\n",
       "  <tbody>\n",
       "    <tr>\n",
       "      <th>0</th>\n",
       "      <td>T00001</td>\n",
       "      <td>C0199</td>\n",
       "      <td>P067</td>\n",
       "      <td>2024-08-25 12:38:23</td>\n",
       "      <td>1</td>\n",
       "      <td>300.68</td>\n",
       "      <td>300.68</td>\n",
       "      <td>2024-08-25</td>\n",
       "      <td>12:38:23</td>\n",
       "    </tr>\n",
       "    <tr>\n",
       "      <th>1</th>\n",
       "      <td>T00112</td>\n",
       "      <td>C0146</td>\n",
       "      <td>P067</td>\n",
       "      <td>2024-05-27 22:23:54</td>\n",
       "      <td>1</td>\n",
       "      <td>300.68</td>\n",
       "      <td>300.68</td>\n",
       "      <td>2024-05-27</td>\n",
       "      <td>22:23:54</td>\n",
       "    </tr>\n",
       "    <tr>\n",
       "      <th>2</th>\n",
       "      <td>T00166</td>\n",
       "      <td>C0127</td>\n",
       "      <td>P067</td>\n",
       "      <td>2024-04-25 07:38:55</td>\n",
       "      <td>1</td>\n",
       "      <td>300.68</td>\n",
       "      <td>300.68</td>\n",
       "      <td>2024-04-25</td>\n",
       "      <td>07:38:55</td>\n",
       "    </tr>\n",
       "    <tr>\n",
       "      <th>3</th>\n",
       "      <td>T00272</td>\n",
       "      <td>C0087</td>\n",
       "      <td>P067</td>\n",
       "      <td>2024-03-26 22:55:37</td>\n",
       "      <td>2</td>\n",
       "      <td>601.36</td>\n",
       "      <td>300.68</td>\n",
       "      <td>2024-03-26</td>\n",
       "      <td>22:55:37</td>\n",
       "    </tr>\n",
       "    <tr>\n",
       "      <th>4</th>\n",
       "      <td>T00363</td>\n",
       "      <td>C0070</td>\n",
       "      <td>P067</td>\n",
       "      <td>2024-03-21 15:10:10</td>\n",
       "      <td>3</td>\n",
       "      <td>902.04</td>\n",
       "      <td>300.68</td>\n",
       "      <td>2024-03-21</td>\n",
       "      <td>15:10:10</td>\n",
       "    </tr>\n",
       "    <tr>\n",
       "      <th>...</th>\n",
       "      <td>...</td>\n",
       "      <td>...</td>\n",
       "      <td>...</td>\n",
       "      <td>...</td>\n",
       "      <td>...</td>\n",
       "      <td>...</td>\n",
       "      <td>...</td>\n",
       "      <td>...</td>\n",
       "      <td>...</td>\n",
       "    </tr>\n",
       "    <tr>\n",
       "      <th>995</th>\n",
       "      <td>T00496</td>\n",
       "      <td>C0118</td>\n",
       "      <td>P037</td>\n",
       "      <td>2024-10-24 08:30:27</td>\n",
       "      <td>1</td>\n",
       "      <td>459.86</td>\n",
       "      <td>459.86</td>\n",
       "      <td>2024-10-24</td>\n",
       "      <td>08:30:27</td>\n",
       "    </tr>\n",
       "    <tr>\n",
       "      <th>996</th>\n",
       "      <td>T00759</td>\n",
       "      <td>C0059</td>\n",
       "      <td>P037</td>\n",
       "      <td>2024-06-04 02:15:24</td>\n",
       "      <td>3</td>\n",
       "      <td>1379.58</td>\n",
       "      <td>459.86</td>\n",
       "      <td>2024-06-04</td>\n",
       "      <td>02:15:24</td>\n",
       "    </tr>\n",
       "    <tr>\n",
       "      <th>997</th>\n",
       "      <td>T00922</td>\n",
       "      <td>C0018</td>\n",
       "      <td>P037</td>\n",
       "      <td>2024-04-05 13:05:32</td>\n",
       "      <td>4</td>\n",
       "      <td>1839.44</td>\n",
       "      <td>459.86</td>\n",
       "      <td>2024-04-05</td>\n",
       "      <td>13:05:32</td>\n",
       "    </tr>\n",
       "    <tr>\n",
       "      <th>998</th>\n",
       "      <td>T00959</td>\n",
       "      <td>C0115</td>\n",
       "      <td>P037</td>\n",
       "      <td>2024-09-29 10:16:02</td>\n",
       "      <td>2</td>\n",
       "      <td>919.72</td>\n",
       "      <td>459.86</td>\n",
       "      <td>2024-09-29</td>\n",
       "      <td>10:16:02</td>\n",
       "    </tr>\n",
       "    <tr>\n",
       "      <th>999</th>\n",
       "      <td>T00992</td>\n",
       "      <td>C0024</td>\n",
       "      <td>P037</td>\n",
       "      <td>2024-04-21 10:52:24</td>\n",
       "      <td>1</td>\n",
       "      <td>459.86</td>\n",
       "      <td>459.86</td>\n",
       "      <td>2024-04-21</td>\n",
       "      <td>10:52:24</td>\n",
       "    </tr>\n",
       "  </tbody>\n",
       "</table>\n",
       "<p>1000 rows × 9 columns</p>\n",
       "</div>"
      ],
      "text/plain": [
       "    TransactionID CustomerID ProductID     TransactionDate  Quantity  \\\n",
       "0          T00001      C0199      P067 2024-08-25 12:38:23         1   \n",
       "1          T00112      C0146      P067 2024-05-27 22:23:54         1   \n",
       "2          T00166      C0127      P067 2024-04-25 07:38:55         1   \n",
       "3          T00272      C0087      P067 2024-03-26 22:55:37         2   \n",
       "4          T00363      C0070      P067 2024-03-21 15:10:10         3   \n",
       "..            ...        ...       ...                 ...       ...   \n",
       "995        T00496      C0118      P037 2024-10-24 08:30:27         1   \n",
       "996        T00759      C0059      P037 2024-06-04 02:15:24         3   \n",
       "997        T00922      C0018      P037 2024-04-05 13:05:32         4   \n",
       "998        T00959      C0115      P037 2024-09-29 10:16:02         2   \n",
       "999        T00992      C0024      P037 2024-04-21 10:52:24         1   \n",
       "\n",
       "     TotalValue   Price        Date      Time  \n",
       "0        300.68  300.68  2024-08-25  12:38:23  \n",
       "1        300.68  300.68  2024-05-27  22:23:54  \n",
       "2        300.68  300.68  2024-04-25  07:38:55  \n",
       "3        601.36  300.68  2024-03-26  22:55:37  \n",
       "4        902.04  300.68  2024-03-21  15:10:10  \n",
       "..          ...     ...         ...       ...  \n",
       "995      459.86  459.86  2024-10-24  08:30:27  \n",
       "996     1379.58  459.86  2024-06-04  02:15:24  \n",
       "997     1839.44  459.86  2024-04-05  13:05:32  \n",
       "998      919.72  459.86  2024-09-29  10:16:02  \n",
       "999      459.86  459.86  2024-04-21  10:52:24  \n",
       "\n",
       "[1000 rows x 9 columns]"
      ]
     },
     "execution_count": 8,
     "metadata": {},
     "output_type": "execute_result"
    }
   ],
   "source": [
    "df['TransactionDate'] = pd.to_datetime(df['TransactionDate'])\n",
    "df['Date'] = df['TransactionDate'].dt.date\n",
    "df['Time'] = df['TransactionDate'].dt.time\n",
    "df"
   ]
  },
  {
   "cell_type": "code",
   "execution_count": 9,
   "id": "f22218fb-59e0-474c-b418-30f2d2ee7069",
   "metadata": {},
   "outputs": [],
   "source": [
    "df = df.drop('TransactionDate',axis=1)"
   ]
  },
  {
   "cell_type": "markdown",
   "id": "d5578096-fded-444d-ad3e-bc239d0d8005",
   "metadata": {},
   "source": [
    "## About data"
   ]
  },
  {
   "cell_type": "code",
   "execution_count": 11,
   "id": "6eb0fd06-579a-4a08-92a6-84474cc0af57",
   "metadata": {},
   "outputs": [
    {
     "data": {
      "text/plain": [
       "0    P059\n",
       "Name: ProductID, dtype: object"
      ]
     },
     "execution_count": 11,
     "metadata": {},
     "output_type": "execute_result"
    }
   ],
   "source": [
    "# Most popular product\n",
    "df['ProductID'].mode()"
   ]
  },
  {
   "cell_type": "code",
   "execution_count": 12,
   "id": "e823d211-c053-447c-92c3-ee6546e9a54b",
   "metadata": {},
   "outputs": [
    {
     "data": {
      "text/plain": [
       "array([303.2])"
      ]
     },
     "execution_count": 12,
     "metadata": {},
     "output_type": "execute_result"
    }
   ],
   "source": [
    "# Cost\n",
    "df.loc[df['ProductID'] == 'P059', 'Price'].unique()"
   ]
  },
  {
   "cell_type": "code",
   "execution_count": 13,
   "id": "1f0776ac-5f4f-4840-b0a3-0bd5ae8e1d53",
   "metadata": {},
   "outputs": [
    {
     "data": {
      "text/plain": [
       "199"
      ]
     },
     "execution_count": 13,
     "metadata": {},
     "output_type": "execute_result"
    }
   ],
   "source": [
    "len(df['CustomerID'].unique())"
   ]
  },
  {
   "cell_type": "code",
   "execution_count": 14,
   "id": "f3896d1a-948c-4d82-843c-00222e956eb6",
   "metadata": {},
   "outputs": [
    {
     "data": {
      "text/plain": [
       "100"
      ]
     },
     "execution_count": 14,
     "metadata": {},
     "output_type": "execute_result"
    }
   ],
   "source": [
    "len(df['ProductID'].unique())"
   ]
  },
  {
   "cell_type": "markdown",
   "id": "70d11c36-c9a9-47f0-aa9f-a5277c4e74e1",
   "metadata": {},
   "source": [
    "## Spotting trends"
   ]
  },
  {
   "cell_type": "code",
   "execution_count": 16,
   "id": "0245e478-354a-4fb3-8ae1-0f782851f2c7",
   "metadata": {},
   "outputs": [],
   "source": [
    "trend = df.drop(columns = ['Time','CustomerID','ProductID','Time','Price'],axis=1)\n",
    "trend = trend.sort_values(by = 'Date')"
   ]
  },
  {
   "cell_type": "code",
   "execution_count": 17,
   "id": "1d73a4c7-d1fc-4ea9-b59f-e2ffe303dcc2",
   "metadata": {},
   "outputs": [
    {
     "data": {
      "text/html": [
       "<div>\n",
       "<style scoped>\n",
       "    .dataframe tbody tr th:only-of-type {\n",
       "        vertical-align: middle;\n",
       "    }\n",
       "\n",
       "    .dataframe tbody tr th {\n",
       "        vertical-align: top;\n",
       "    }\n",
       "\n",
       "    .dataframe thead th {\n",
       "        text-align: right;\n",
       "    }\n",
       "</style>\n",
       "<table border=\"1\" class=\"dataframe\">\n",
       "  <thead>\n",
       "    <tr style=\"text-align: right;\">\n",
       "      <th></th>\n",
       "      <th>TransactionID</th>\n",
       "      <th>Quantity</th>\n",
       "      <th>TotalValue</th>\n",
       "      <th>Date</th>\n",
       "    </tr>\n",
       "  </thead>\n",
       "  <tbody>\n",
       "    <tr>\n",
       "      <th>225</th>\n",
       "      <td>T00869</td>\n",
       "      <td>2</td>\n",
       "      <td>313.92</td>\n",
       "      <td>2023-12-30</td>\n",
       "    </tr>\n",
       "    <tr>\n",
       "      <th>32</th>\n",
       "      <td>T00605</td>\n",
       "      <td>4</td>\n",
       "      <td>958.80</td>\n",
       "      <td>2023-12-31</td>\n",
       "    </tr>\n",
       "    <tr>\n",
       "      <th>729</th>\n",
       "      <td>T00845</td>\n",
       "      <td>2</td>\n",
       "      <td>911.44</td>\n",
       "      <td>2023-12-31</td>\n",
       "    </tr>\n",
       "    <tr>\n",
       "      <th>822</th>\n",
       "      <td>T00154</td>\n",
       "      <td>4</td>\n",
       "      <td>1585.36</td>\n",
       "      <td>2023-12-31</td>\n",
       "    </tr>\n",
       "    <tr>\n",
       "      <th>868</th>\n",
       "      <td>T00909</td>\n",
       "      <td>2</td>\n",
       "      <td>319.20</td>\n",
       "      <td>2024-01-01</td>\n",
       "    </tr>\n",
       "    <tr>\n",
       "      <th>...</th>\n",
       "      <td>...</td>\n",
       "      <td>...</td>\n",
       "      <td>...</td>\n",
       "      <td>...</td>\n",
       "    </tr>\n",
       "    <tr>\n",
       "      <th>5</th>\n",
       "      <td>T00442</td>\n",
       "      <td>1</td>\n",
       "      <td>300.68</td>\n",
       "      <td>2024-12-26</td>\n",
       "    </tr>\n",
       "    <tr>\n",
       "      <th>539</th>\n",
       "      <td>T00698</td>\n",
       "      <td>1</td>\n",
       "      <td>261.20</td>\n",
       "      <td>2024-12-26</td>\n",
       "    </tr>\n",
       "    <tr>\n",
       "      <th>193</th>\n",
       "      <td>T00374</td>\n",
       "      <td>2</td>\n",
       "      <td>294.44</td>\n",
       "      <td>2024-12-27</td>\n",
       "    </tr>\n",
       "    <tr>\n",
       "      <th>390</th>\n",
       "      <td>T00951</td>\n",
       "      <td>2</td>\n",
       "      <td>458.12</td>\n",
       "      <td>2024-12-27</td>\n",
       "    </tr>\n",
       "    <tr>\n",
       "      <th>638</th>\n",
       "      <td>T00333</td>\n",
       "      <td>3</td>\n",
       "      <td>476.79</td>\n",
       "      <td>2024-12-28</td>\n",
       "    </tr>\n",
       "  </tbody>\n",
       "</table>\n",
       "<p>1000 rows × 4 columns</p>\n",
       "</div>"
      ],
      "text/plain": [
       "    TransactionID  Quantity  TotalValue        Date\n",
       "225        T00869         2      313.92  2023-12-30\n",
       "32         T00605         4      958.80  2023-12-31\n",
       "729        T00845         2      911.44  2023-12-31\n",
       "822        T00154         4     1585.36  2023-12-31\n",
       "868        T00909         2      319.20  2024-01-01\n",
       "..            ...       ...         ...         ...\n",
       "5          T00442         1      300.68  2024-12-26\n",
       "539        T00698         1      261.20  2024-12-26\n",
       "193        T00374         2      294.44  2024-12-27\n",
       "390        T00951         2      458.12  2024-12-27\n",
       "638        T00333         3      476.79  2024-12-28\n",
       "\n",
       "[1000 rows x 4 columns]"
      ]
     },
     "execution_count": 17,
     "metadata": {},
     "output_type": "execute_result"
    }
   ],
   "source": [
    "trend"
   ]
  },
  {
   "cell_type": "code",
   "execution_count": 18,
   "id": "ae9b6d4a-855d-4339-8582-738505035e35",
   "metadata": {},
   "outputs": [
    {
     "name": "stdout",
     "output_type": "stream",
     "text": [
      "    TransactionID  Quantity  TotalValue       Date  Month\n",
      "225        T00869         2      313.92 2023-12-30     12\n",
      "32         T00605         4      958.80 2023-12-31     12\n",
      "729        T00845         2      911.44 2023-12-31     12\n",
      "822        T00154         4     1585.36 2023-12-31     12\n",
      "868        T00909         2      319.20 2024-01-01      1\n",
      "..            ...       ...         ...        ...    ...\n",
      "5          T00442         1      300.68 2024-12-26     12\n",
      "539        T00698         1      261.20 2024-12-26     12\n",
      "193        T00374         2      294.44 2024-12-27     12\n",
      "390        T00951         2      458.12 2024-12-27     12\n",
      "638        T00333         3      476.79 2024-12-28     12\n",
      "\n",
      "[1000 rows x 5 columns]\n"
     ]
    }
   ],
   "source": [
    "trend['Date'] = pd.to_datetime(trend['Date'])\n",
    "trend['Month'] = trend['Date'].dt.month\n",
    "print(trend)"
   ]
  },
  {
   "cell_type": "code",
   "execution_count": 19,
   "id": "6749e81a-5ad7-4940-a40f-9135ce370c67",
   "metadata": {},
   "outputs": [
    {
     "data": {
      "image/png": "[encoded data removed]",
      "text/plain": [
       "<Figure size 1200x600 with 1 Axes>"
      ]
     },
     "metadata": {},
     "output_type": "display_data"
    }
   ],
   "source": [
    "plt.figure(figsize=(12, 6))\n",
    "plt.hist(trend['Month'], bins=range(1, 14), color='skyblue', edgecolor='black', align='mid')\n",
    "plt.title('Frequency of Purchases by Month (Histogram)', fontsize=14)\n",
    "plt.xlabel('Month', fontsize=12)\n",
    "plt.ylabel('Number of Transactions', fontsize=12)\n",
    "bin_centers = [i + 0.5 for i in range(1, 13)]\n",
    "plt.xticks(ticks=bin_centers, labels=range(1, 13))\n",
    "plt.tight_layout()\n",
    "plt.show()"
   ]
  },
  {
   "cell_type": "code",
   "execution_count": 20,
   "id": "5f6d7c72-f6f4-49a4-bb43-5d097c6ff5d4",
   "metadata": {},
   "outputs": [
    {
     "data": {
      "image/png": "[encoded data removed]",
      "text/plain": [
       "<Figure size 640x480 with 4 Axes>"
      ]
     },
     "metadata": {},
     "output_type": "display_data"
    }
   ],
   "source": [
    "value = trend\n",
    "value.set_index('Date', inplace=True)\n",
    "\n",
    "result = seasonal_decompose(trend['TotalValue'], model='additive', period=1)\n",
    "\n",
    "result.plot()\n",
    "plt.tight_layout()\n",
    "plt.show()"
   ]
  },
  {
   "cell_type": "code",
   "execution_count": 21,
   "id": "b64bc0b9-32d5-4bb5-9ec1-4428e8ef4461",
   "metadata": {},
   "outputs": [],
   "source": [
    "# There is no visible trends or seasonality"
   ]
  },
  {
   "cell_type": "markdown",
   "id": "6c6686b8-745c-4ae5-b615-c3f3656a9c4e",
   "metadata": {},
   "source": [
    "## Customer Purchasing"
   ]
  },
  {
   "cell_type": "code",
   "execution_count": 23,
   "id": "9bd34871-7461-439a-bab4-fdf0322a6e3e",
   "metadata": {},
   "outputs": [
    {
     "data": {
      "text/plain": [
       "199"
      ]
     },
     "execution_count": 23,
     "metadata": {},
     "output_type": "execute_result"
    }
   ],
   "source": [
    "len(df['CustomerID'].unique())"
   ]
  },
  {
   "cell_type": "code",
   "execution_count": 24,
   "id": "9063ef4a-3a74-4f65-94e9-c30199e7bd98",
   "metadata": {},
   "outputs": [],
   "source": [
    "cust = pd.DataFrame(df.groupby('CustomerID')['TotalValue'].mean())"
   ]
  },
  {
   "cell_type": "code",
   "execution_count": 25,
   "id": "6259e23f-8892-40fc-8419-0b93789662d5",
   "metadata": {},
   "outputs": [
    {
     "data": {
      "text/html": [
       "<div>\n",
       "<style scoped>\n",
       "    .dataframe tbody tr th:only-of-type {\n",
       "        vertical-align: middle;\n",
       "    }\n",
       "\n",
       "    .dataframe tbody tr th {\n",
       "        vertical-align: top;\n",
       "    }\n",
       "\n",
       "    .dataframe thead th {\n",
       "        text-align: right;\n",
       "    }\n",
       "</style>\n",
       "<table border=\"1\" class=\"dataframe\">\n",
       "  <thead>\n",
       "    <tr style=\"text-align: right;\">\n",
       "      <th></th>\n",
       "      <th>TotalValue</th>\n",
       "    </tr>\n",
       "    <tr>\n",
       "      <th>CustomerID</th>\n",
       "      <th></th>\n",
       "    </tr>\n",
       "  </thead>\n",
       "  <tbody>\n",
       "    <tr>\n",
       "      <th>C0001</th>\n",
       "      <td>670.904000</td>\n",
       "    </tr>\n",
       "    <tr>\n",
       "      <th>C0002</th>\n",
       "      <td>465.685000</td>\n",
       "    </tr>\n",
       "    <tr>\n",
       "      <th>C0003</th>\n",
       "      <td>681.345000</td>\n",
       "    </tr>\n",
       "    <tr>\n",
       "      <th>C0004</th>\n",
       "      <td>669.360000</td>\n",
       "    </tr>\n",
       "    <tr>\n",
       "      <th>C0005</th>\n",
       "      <td>678.080000</td>\n",
       "    </tr>\n",
       "    <tr>\n",
       "      <th>...</th>\n",
       "      <td>...</td>\n",
       "    </tr>\n",
       "    <tr>\n",
       "      <th>C0196</th>\n",
       "      <td>1245.720000</td>\n",
       "    </tr>\n",
       "    <tr>\n",
       "      <th>C0197</th>\n",
       "      <td>642.883333</td>\n",
       "    </tr>\n",
       "    <tr>\n",
       "      <th>C0198</th>\n",
       "      <td>465.915000</td>\n",
       "    </tr>\n",
       "    <tr>\n",
       "      <th>C0199</th>\n",
       "      <td>494.820000</td>\n",
       "    </tr>\n",
       "    <tr>\n",
       "      <th>C0200</th>\n",
       "      <td>951.720000</td>\n",
       "    </tr>\n",
       "  </tbody>\n",
       "</table>\n",
       "<p>199 rows × 1 columns</p>\n",
       "</div>"
      ],
      "text/plain": [
       "             TotalValue\n",
       "CustomerID             \n",
       "C0001        670.904000\n",
       "C0002        465.685000\n",
       "C0003        681.345000\n",
       "C0004        669.360000\n",
       "C0005        678.080000\n",
       "...                 ...\n",
       "C0196       1245.720000\n",
       "C0197        642.883333\n",
       "C0198        465.915000\n",
       "C0199        494.820000\n",
       "C0200        951.720000\n",
       "\n",
       "[199 rows x 1 columns]"
      ]
     },
     "execution_count": 25,
     "metadata": {},
     "output_type": "execute_result"
    }
   ],
   "source": [
    "cust"
   ]
  },
  {
   "cell_type": "code",
   "execution_count": 26,
   "id": "a9b1ffcf-0f57-4d77-8ce4-e956e78798a5",
   "metadata": {},
   "outputs": [],
   "source": [
    "cust = cust.sort_values(by = 'TotalValue')"
   ]
  },
  {
   "cell_type": "code",
   "execution_count": 27,
   "id": "7e9cf274-f596-4d6c-b151-84c867c3f8fc",
   "metadata": {},
   "outputs": [
    {
     "data": {
      "text/plain": [
       "TotalValue    1323.133333\n",
       "Name: C0040, dtype: float64"
      ]
     },
     "execution_count": 27,
     "metadata": {},
     "output_type": "execute_result"
    }
   ],
   "source": [
    "cust.iloc[-1,0:2]"
   ]
  },
  {
   "cell_type": "code",
   "execution_count": 28,
   "id": "052ccd2a-6941-43e7-9fd1-56cc720be356",
   "metadata": {},
   "outputs": [
    {
     "data": {
      "text/html": [
       "<div>\n",
       "<style scoped>\n",
       "    .dataframe tbody tr th:only-of-type {\n",
       "        vertical-align: middle;\n",
       "    }\n",
       "\n",
       "    .dataframe tbody tr th {\n",
       "        vertical-align: top;\n",
       "    }\n",
       "\n",
       "    .dataframe thead th {\n",
       "        text-align: right;\n",
       "    }\n",
       "</style>\n",
       "<table border=\"1\" class=\"dataframe\">\n",
       "  <thead>\n",
       "    <tr style=\"text-align: right;\">\n",
       "      <th></th>\n",
       "      <th>TransactionID</th>\n",
       "      <th>CustomerID</th>\n",
       "      <th>ProductID</th>\n",
       "      <th>Quantity</th>\n",
       "      <th>TotalValue</th>\n",
       "      <th>Price</th>\n",
       "      <th>Date</th>\n",
       "      <th>Time</th>\n",
       "    </tr>\n",
       "  </thead>\n",
       "  <tbody>\n",
       "    <tr>\n",
       "      <th>0</th>\n",
       "      <td>T00001</td>\n",
       "      <td>C0199</td>\n",
       "      <td>P067</td>\n",
       "      <td>1</td>\n",
       "      <td>300.68</td>\n",
       "      <td>300.68</td>\n",
       "      <td>2024-08-25</td>\n",
       "      <td>12:38:23</td>\n",
       "    </tr>\n",
       "    <tr>\n",
       "      <th>1</th>\n",
       "      <td>T00112</td>\n",
       "      <td>C0146</td>\n",
       "      <td>P067</td>\n",
       "      <td>1</td>\n",
       "      <td>300.68</td>\n",
       "      <td>300.68</td>\n",
       "      <td>2024-05-27</td>\n",
       "      <td>22:23:54</td>\n",
       "    </tr>\n",
       "    <tr>\n",
       "      <th>2</th>\n",
       "      <td>T00166</td>\n",
       "      <td>C0127</td>\n",
       "      <td>P067</td>\n",
       "      <td>1</td>\n",
       "      <td>300.68</td>\n",
       "      <td>300.68</td>\n",
       "      <td>2024-04-25</td>\n",
       "      <td>07:38:55</td>\n",
       "    </tr>\n",
       "    <tr>\n",
       "      <th>3</th>\n",
       "      <td>T00272</td>\n",
       "      <td>C0087</td>\n",
       "      <td>P067</td>\n",
       "      <td>2</td>\n",
       "      <td>601.36</td>\n",
       "      <td>300.68</td>\n",
       "      <td>2024-03-26</td>\n",
       "      <td>22:55:37</td>\n",
       "    </tr>\n",
       "    <tr>\n",
       "      <th>4</th>\n",
       "      <td>T00363</td>\n",
       "      <td>C0070</td>\n",
       "      <td>P067</td>\n",
       "      <td>3</td>\n",
       "      <td>902.04</td>\n",
       "      <td>300.68</td>\n",
       "      <td>2024-03-21</td>\n",
       "      <td>15:10:10</td>\n",
       "    </tr>\n",
       "    <tr>\n",
       "      <th>...</th>\n",
       "      <td>...</td>\n",
       "      <td>...</td>\n",
       "      <td>...</td>\n",
       "      <td>...</td>\n",
       "      <td>...</td>\n",
       "      <td>...</td>\n",
       "      <td>...</td>\n",
       "      <td>...</td>\n",
       "    </tr>\n",
       "    <tr>\n",
       "      <th>995</th>\n",
       "      <td>T00496</td>\n",
       "      <td>C0118</td>\n",
       "      <td>P037</td>\n",
       "      <td>1</td>\n",
       "      <td>459.86</td>\n",
       "      <td>459.86</td>\n",
       "      <td>2024-10-24</td>\n",
       "      <td>08:30:27</td>\n",
       "    </tr>\n",
       "    <tr>\n",
       "      <th>996</th>\n",
       "      <td>T00759</td>\n",
       "      <td>C0059</td>\n",
       "      <td>P037</td>\n",
       "      <td>3</td>\n",
       "      <td>1379.58</td>\n",
       "      <td>459.86</td>\n",
       "      <td>2024-06-04</td>\n",
       "      <td>02:15:24</td>\n",
       "    </tr>\n",
       "    <tr>\n",
       "      <th>997</th>\n",
       "      <td>T00922</td>\n",
       "      <td>C0018</td>\n",
       "      <td>P037</td>\n",
       "      <td>4</td>\n",
       "      <td>1839.44</td>\n",
       "      <td>459.86</td>\n",
       "      <td>2024-04-05</td>\n",
       "      <td>13:05:32</td>\n",
       "    </tr>\n",
       "    <tr>\n",
       "      <th>998</th>\n",
       "      <td>T00959</td>\n",
       "      <td>C0115</td>\n",
       "      <td>P037</td>\n",
       "      <td>2</td>\n",
       "      <td>919.72</td>\n",
       "      <td>459.86</td>\n",
       "      <td>2024-09-29</td>\n",
       "      <td>10:16:02</td>\n",
       "    </tr>\n",
       "    <tr>\n",
       "      <th>999</th>\n",
       "      <td>T00992</td>\n",
       "      <td>C0024</td>\n",
       "      <td>P037</td>\n",
       "      <td>1</td>\n",
       "      <td>459.86</td>\n",
       "      <td>459.86</td>\n",
       "      <td>2024-04-21</td>\n",
       "      <td>10:52:24</td>\n",
       "    </tr>\n",
       "  </tbody>\n",
       "</table>\n",
       "<p>1000 rows × 8 columns</p>\n",
       "</div>"
      ],
      "text/plain": [
       "    TransactionID CustomerID ProductID  Quantity  TotalValue   Price  \\\n",
       "0          T00001      C0199      P067         1      300.68  300.68   \n",
       "1          T00112      C0146      P067         1      300.68  300.68   \n",
       "2          T00166      C0127      P067         1      300.68  300.68   \n",
       "3          T00272      C0087      P067         2      601.36  300.68   \n",
       "4          T00363      C0070      P067         3      902.04  300.68   \n",
       "..            ...        ...       ...       ...         ...     ...   \n",
       "995        T00496      C0118      P037         1      459.86  459.86   \n",
       "996        T00759      C0059      P037         3     1379.58  459.86   \n",
       "997        T00922      C0018      P037         4     1839.44  459.86   \n",
       "998        T00959      C0115      P037         2      919.72  459.86   \n",
       "999        T00992      C0024      P037         1      459.86  459.86   \n",
       "\n",
       "           Date      Time  \n",
       "0    2024-08-25  12:38:23  \n",
       "1    2024-05-27  22:23:54  \n",
       "2    2024-04-25  07:38:55  \n",
       "3    2024-03-26  22:55:37  \n",
       "4    2024-03-21  15:10:10  \n",
       "..          ...       ...  \n",
       "995  2024-10-24  08:30:27  \n",
       "996  2024-06-04  02:15:24  \n",
       "997  2024-04-05  13:05:32  \n",
       "998  2024-09-29  10:16:02  \n",
       "999  2024-04-21  10:52:24  \n",
       "\n",
       "[1000 rows x 8 columns]"
      ]
     },
     "execution_count": 28,
     "metadata": {},
     "output_type": "execute_result"
    }
   ],
   "source": [
    "df"
   ]
  },
  {
   "cell_type": "code",
   "execution_count": 29,
   "id": "0b9580bb-a58e-4d70-bbee-f57d0651e6da",
   "metadata": {},
   "outputs": [
    {
     "data": {
      "text/plain": [
       "Quantity\n",
       "1    273.983389\n",
       "2    272.893780\n",
       "3    273.664921\n",
       "4    269.843985\n",
       "Name: Price, dtype: float64"
      ]
     },
     "execution_count": 29,
     "metadata": {},
     "output_type": "execute_result"
    }
   ],
   "source": [
    "df.groupby('Quantity')['Price'].mean()"
   ]
  },
  {
   "cell_type": "code",
   "execution_count": 30,
   "id": "096c3d5b-842c-4ef0-91ff-436992636cbd",
   "metadata": {},
   "outputs": [],
   "source": [
    "# In average customers would spend around 265 - 275 for a product"
   ]
  },
  {
   "cell_type": "code",
   "execution_count": null,
   "id": "ba669db2-d471-467f-b97c-e81957d3c2cd",
   "metadata": {},
   "outputs": [],
   "source": []
  }
 ],
 "metadata": {
  "kernelspec": {
   "display_name": "Python 3 (ipykernel)",
   "language": "python",
   "name": "python3"
  },
  "language_info": {
   "codemirror_mode": {
    "name": "ipython",
    "version": 3
   },
   "file_extension": ".py",
   "mimetype": "text/x-python",
   "name": "python",
   "nbconvert_exporter": "python",
   "pygments_lexer": "ipython3",
   "version": "3.12.7"
  }
 },
 "nbformat": 4,
 "nbformat_minor": 5
}
